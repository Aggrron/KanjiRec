{
 "cells": [
  {
   "cell_type": "code",
   "execution_count": null,
   "metadata": {},
   "outputs": [],
   "source": [
    "import io\n",
    "jis = {}\n",
    "codings_file = open(\"codings.txt\", 'r')\n",
    "for line in codings_file:\n",
    "    buf = line.split()\n",
    "    jis[buf[0]] = buf[1]\n",
    "\n",
    "\n",
    "\n",
    "\n",
    "#hira_string = ''\n",
    "#kata_string = ''\n",
    "#hira = io.open(\"hiragana.txt\", mode = 'r', encoding = \"utf-8\")\n",
    "#kata = io.open(\"katakana.txt\", mode = 'r', encoding = \"utf-8\")\n",
    "#for line in hira:\n",
    "#    hira_string += line\n",
    "\n",
    "#for line in kata:\n",
    "#    kata_string += line\n",
    "\n",
    "#Проверка на то что символ кана через файл а не словарь\n",
    "def checkKana_file(kana):\n",
    "    with io.open(\"katakana.txt\", encoding = 'utf-8') as f:\n",
    "        if kana in f.read():\n",
    "            return True\n",
    "        else:\n",
    "            return False\n",
    "# Нахождение нужной кодировки через файл а не словарь       \n",
    "def coding(code):\n",
    "    with open(\"codings.txt\") as f:\n",
    "        for line in f:\n",
    "            if code == line[:6]:\n",
    "                return line[6:]\n",
    "\n",
    "print(coding(\"0x213D\"))\n",
    "def coding_test():\n",
    "    with open(\"codings.txt\") as f:\n",
    "        for line in f:\n",
    "            pass\n",
    "        print(\"done\")\n",
    "\n",
    "        "
   ]
  },
  {
   "cell_type": "code",
   "execution_count": null,
   "metadata": {},
   "outputs": [],
   "source": [
    "#files = [\"ETL9B_1\",\"ETL9B_2\",\"ETL9B_3\",\"ETL9B_4\",\"ETL9B_5\"]\n",
    "files = [\"ETL9B_1\",\"ETL9B_2\"]"
   ]
  },
  {
   "cell_type": "code",
   "execution_count": 3,
   "metadata": {},
   "outputs": [
    {
     "data": {
      "text/plain": [
       "'\\nfilename = \"ETL9B_1\"\\nfile_stream = bitstring.ConstBitStream(filename=filename)\\n\\n\\nwidth = 64\\nheight = 63\\n\\nrecord = file_stream.readlist(\\'int:16,uint:16,uint:32,bytes:504,pad:512\\')\\nrecord_dict = {\\n     \\'sheet_number\\': record[0], # type: int - Serial Sheet Number\\n     \\'JIS_KANJI_CODE\\': record[1], # type: binary - JIS Kanji Code (JIS X 0208)\\n     \\'JIS_READING\\': record[2], # type: ASCII - JIS Typical Reading (e.g. \\'AI.M\\')\\n     \\'image_data\\': record[3], # type: bytes\\n}\\n\\n\\nnp_img = np.array(Image.frombytes(\\'1\\', (width, height), record_dict[\\'image_data\\'], \\'raw\\')).astype(np.uint8)\\nplt.imshow(np_img)\\n#plt.colorbar()\\n'"
      ]
     },
     "execution_count": 3,
     "metadata": {},
     "output_type": "execute_result"
    }
   ],
   "source": [
    "import numpy as np\n",
    "import matplotlib.pyplot as plt\n",
    "import cv2\n",
    "import PIL\n",
    "from PIL import Image\n",
    "#from tqdm import tqdm\n",
    "#!pip install bitstring\n",
    "import bitstring\n",
    "\"\"\"\n",
    "filename = \"ETL9B_1\"\n",
    "file_stream = bitstring.ConstBitStream(filename=filename)\n",
    "\n",
    "\n",
    "width = 64\n",
    "height = 63\n",
    "\n",
    "record = file_stream.readlist('int:16,uint:16,uint:32,bytes:504,pad:512')\n",
    "record_dict = {\n",
    "     'sheet_number': record[0], # type: int - Serial Sheet Number\n",
    "     'JIS_KANJI_CODE': record[1], # type: binary - JIS Kanji Code (JIS X 0208)\n",
    "     'JIS_READING': record[2], # type: ASCII - JIS Typical Reading (e.g. 'AI.M')\n",
    "     'image_data': record[3], # type: bytes\n",
    "}\n",
    "\n",
    "\n",
    "np_img = np.array(Image.frombytes('1', (width, height), record_dict['image_data'], 'raw')).astype(np.uint8)\n",
    "plt.imshow(np_img)\n",
    "#plt.colorbar()\n",
    "\"\"\""
   ]
  },
  {
   "cell_type": "code",
   "execution_count": null,
   "metadata": {},
   "outputs": [],
   "source": []
  },
  {
   "cell_type": "code",
   "execution_count": null,
   "metadata": {},
   "outputs": [],
   "source": [
    "record = file_stream.readlist('int:16,uint:16,uint:32,bytes:504,pad:512')\n",
    "record_dict = {\n",
    "     'sheet_number': record[0], # type: int - Serial Sheet Number\n",
    "     'JIS_KANJI_CODE': record[1], # type: binary - JIS Kanji Code (JIS X 0208)\n",
    "     'JIS_READING': record[2], # type: ASCII - JIS Typical Reading (e.g. 'AI.M')\n",
    "     'image_data': record[3], # type: bytes\n",
    "}\n",
    "\n",
    "\n",
    "np_img = np.array(Image.frombytes('1', (width, height), record_dict['image_data'], 'raw')).astype(np.uint8)\n",
    "plt.imshow(np_img, cmap = 'gray')\n",
    "plt.colorbar()\n"
   ]
  },
  {
   "cell_type": "code",
   "execution_count": null,
   "metadata": {},
   "outputs": [],
   "source": [
    "print(record[0:3])\n",
    "print(np_img.shape)\n",
    "np_img = cv2.resize(np_img, dsize=(64, 64), interpolation=cv2.INTER_NEAREST)\n",
    "print(np_img.shape)"
   ]
  },
  {
   "cell_type": "code",
   "execution_count": null,
   "metadata": {},
   "outputs": [],
   "source": [
    "def toKanji(ch_code):\n",
    "    ch_hex = hex(ch_code)\n",
    "    ch_hex = ch_hex[2:].upper()\n",
    "    ch_hex = \"0x\" + ch_hex\n",
    "    ch_jis = jis[ch_hex]\n",
    "    #ch_jis = coding(ch_hex)\n",
    "    uni_char = chr(int(ch_jis,0))\n",
    "    return uni_char"
   ]
  },
  {
   "cell_type": "code",
   "execution_count": null,
   "metadata": {
    "scrolled": true
   },
   "outputs": [],
   "source": [
    "print(toKanji(record[1]))"
   ]
  },
  {
   "cell_type": "code",
   "execution_count": null,
   "metadata": {},
   "outputs": [],
   "source": [
    "#jis_kanji = {}\n",
    "#for code in jis:\n",
    "#    jis_kanji[jis[code]] = chr(int(jis[code],0))\n",
    "\n",
    "    \n",
    "    \n",
    "#def check_kana(code):\n",
    "#    ch = toKanji(code)\n",
    "#    if (ch in hira_string) or (ch in kata_string):\n",
    "#        return True\n",
    "#    else:\n",
    "#        return False\n",
    "\n",
    "#print(checkKana_file(13613))\n",
    "print(toKanji(13612))\n",
    "print(checkKana_file(\"規\"))\n",
    "print(checkKana_file(\"ぬ\"))\n",
    "if checkKana_file(toKanji(13612)):\n",
    "    print(\"da\")\n",
    "else:\n",
    "    print(\"net\")"
   ]
  },
  {
   "cell_type": "code",
   "execution_count": null,
   "metadata": {},
   "outputs": [],
   "source": [
    "#Getting all samples \n",
    "from tqdm import tqdm\n",
    "\n",
    "samples_count = 0\n",
    "X_images = []\n",
    "Y_labels = []\n",
    "\n",
    "width = 64\n",
    "height = 63\n",
    "\n",
    "for filename in tqdm(files):\n",
    "    file_stream = bitstring.ConstBitStream(filename=filename)\n",
    "    file_stream.readlist(\"bytes:576\")\n",
    "    \n",
    "    while True:\n",
    "        try:\n",
    "            record = file_stream.readlist('int:16,int:16,uint:32,bytes:504,pad:512')\n",
    "        except:\n",
    "            break\n",
    "        if checkKana_file(toKanji(record[1])):\n",
    "            continue\n",
    "        else:\n",
    "            samples_count +=1\n",
    "            np_img = np.array(Image.frombytes('1', (width, height), record[3], 'raw')).astype(np.uint8)\n",
    "            np_img = cv2.resize(np_img, dsize=(64, 64), interpolation=cv2.INTER_NEAREST)\n",
    "            np_img = np.reshape(np_img, (64,64,1))\n",
    "            X_images.append(np_img)\n",
    "            Y_labels.append(toKanji(record[1]))\n",
    "\n",
    "\n",
    "\n"
   ]
  },
  {
   "cell_type": "code",
   "execution_count": null,
   "metadata": {},
   "outputs": [],
   "source": [
    "print(samples_count)\n",
    "#plt.imshow(X_images[1934], cmap = 'gray')\n",
    "#test_img = X_images[25631]\n",
    "#test_img = np.reshape(test_img, (64,64))\n",
    "#print(test_img.shape)\n",
    "#plt.imshow(test_img, cmap =\"gray\")\n",
    "#plt.colorbar()\n"
   ]
  },
  {
   "cell_type": "code",
   "execution_count": null,
   "metadata": {},
   "outputs": [],
   "source": [
    "print(Y_labels[27424])\n",
    "print(np.array_equal(X_images[56], X_images[9313]))"
   ]
  },
  {
   "cell_type": "code",
   "execution_count": null,
   "metadata": {},
   "outputs": [],
   "source": [
    "test_img = X_images[27424]\n",
    "test_img = np.reshape(test_img, (64,64))\n",
    "print(test_img.shape)\n",
    "plt.imshow(test_img, cmap =\"gray\")\n",
    "plt.colorbar()"
   ]
  },
  {
   "cell_type": "code",
   "execution_count": null,
   "metadata": {},
   "outputs": [],
   "source": [
    "ind = 0\n",
    "Y_index = {}\n",
    "for kanji in Y_labels:\n",
    "    if kanji not in Y_index:\n",
    "        Y_index[kanji] = ind\n",
    "        ind +=1\n",
    "    else:\n",
    "        pass\n",
    "    \n",
    "print(len(Y_index))\n",
    "print(Y_index)"
   ]
  },
  {
   "cell_type": "code",
   "execution_count": null,
   "metadata": {},
   "outputs": [],
   "source": [
    "label_file = io.open(\"Kanji_Labels.txt\", \"w+\", encoding = 'utf-8')\n",
    "for line in Y_index:\n",
    "    label_file.write(str(Y_index[line]) + \":\" + line + \"\\n\")"
   ]
  },
  {
   "cell_type": "code",
   "execution_count": null,
   "metadata": {},
   "outputs": [],
   "source": [
    "Y_lab = []\n",
    "for line in Y_labels:\n",
    "    Y_lab.append(Y_index[line])\n",
    "print(len(Y_lab))"
   ]
  },
  {
   "cell_type": "code",
   "execution_count": 1,
   "metadata": {},
   "outputs": [
    {
     "name": "stderr",
     "output_type": "stream",
     "text": [
      "c:\\users\\acer\\appdata\\local\\programs\\python\\python36-32\\lib\\site-packages\\sklearn\\externals\\joblib\\__init__.py:15: FutureWarning: sklearn.externals.joblib is deprecated in 0.21 and will be removed in 0.23. Please import this functionality directly from joblib, which can be installed with: pip install joblib. If this warning is raised when loading pickled models, you may need to re-serialize those models with scikit-learn 0.21+.\n",
      "  warnings.warn(msg, category=FutureWarning)\n"
     ]
    }
   ],
   "source": [
    "import pickle\n",
    "from sklearn.externals import joblib\n"
   ]
  },
  {
   "cell_type": "code",
   "execution_count": null,
   "metadata": {},
   "outputs": [],
   "source": [
    "filenameX = 'X_images.sav'\n",
    "filenameY = \"Y_labels.sav\"\n",
    "joblib.dump(X_images, filenameX)\n",
    "joblib.dump(Y_lab, filenameY)"
   ]
  },
  {
   "cell_type": "code",
   "execution_count": null,
   "metadata": {},
   "outputs": [],
   "source": [
    "'''pickle_out = open(\"X.pickle\", \"wb\")\n",
    "pickle.dump(X_images, pickle_out)\n",
    "pickle_out.close()\n",
    "\n",
    "pickle_out = open(\"Y.pickle\", \"wb\")\n",
    "#pickle.dump(Y_lab, pickle_out)\n",
    "pickle.dump(Y_labels, pickle_out)\n",
    "pickle_out.close()\n",
    "'''"
   ]
  },
  {
   "cell_type": "code",
   "execution_count": 2,
   "metadata": {},
   "outputs": [],
   "source": [
    "X = joblib.load(\"X_images.sav\")"
   ]
  },
  {
   "cell_type": "code",
   "execution_count": null,
   "metadata": {},
   "outputs": [],
   "source": [
    "print(Y[65237])"
   ]
  },
  {
   "cell_type": "code",
   "execution_count": 6,
   "metadata": {},
   "outputs": [
    {
     "name": "stdout",
     "output_type": "stream",
     "text": [
      "(64, 64)\n"
     ]
    },
    {
     "data": {
      "text/plain": [
       "<matplotlib.colorbar.Colorbar at 0x4f385870>"
      ]
     },
     "execution_count": 6,
     "metadata": {},
     "output_type": "execute_result"
    },
    {
     "data": {
      "image/png": "[encoded data removed]",
      "text/plain": [
       "<Figure size 432x288 with 2 Axes>"
      ]
     },
     "metadata": {
      "needs_background": "light"
     },
     "output_type": "display_data"
    }
   ],
   "source": [
    "test_img = X[200001]\n",
    "test_img = np.reshape(test_img, (64,64))\n",
    "print(test_img.shape)\n",
    "plt.imshow(test_img, cmap =\"gray\")\n",
    "plt.colorbar()"
   ]
  },
  {
   "cell_type": "code",
   "execution_count": null,
   "metadata": {},
   "outputs": [],
   "source": []
  }
 ],
 "metadata": {
  "kernelspec": {
   "display_name": "Python 3",
   "language": "python",
   "name": "python3"
  },
  "language_info": {
   "codemirror_mode": {
    "name": "ipython",
    "version": 3
   },
   "file_extension": ".py",
   "mimetype": "text/x-python",
   "name": "python",
   "nbconvert_exporter": "python",
   "pygments_lexer": "ipython3",
   "version": "3.6.5"
  }
 },
 "nbformat": 4,
 "nbformat_minor": 4
}

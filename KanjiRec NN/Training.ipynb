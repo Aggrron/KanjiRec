{
 "cells": [
  {
   "cell_type": "code",
   "execution_count": 1,
   "metadata": {
    "scrolled": true
   },
   "outputs": [],
   "source": [
    "import numpy as np\n",
    "import tensorflow as tf\n",
    "from tensorflow.keras.models import Sequential\n",
    "from tensorflow.keras.layers import Dense, Dropout, Activation, Flatten, Conv2D, MaxPooling2D, MaxPool2D\n",
    "#!pip install -U scikit-learn\n",
    "#!pip install joblib\n",
    "import joblib\n",
    "#from sklearn.externals import joblib\n",
    "import matplotlib.pyplot as plt\n"
   ]
  },
  {
   "cell_type": "code",
   "execution_count": null,
   "metadata": {},
   "outputs": [],
   "source": []
  },
  {
   "cell_type": "code",
   "execution_count": 2,
   "metadata": {},
   "outputs": [],
   "source": [
    "Y = joblib.load(\"Y_labels.sav\")\n",
    "X = joblib.load(\"X_images.sav\")\n",
    "\n"
   ]
  },
  {
   "cell_type": "code",
   "execution_count": 3,
   "metadata": {},
   "outputs": [
    {
     "name": "stdout",
     "output_type": "stream",
     "text": [
      "23\n",
      "<class 'list'>\n",
      "237200\n",
      "<class 'numpy.ndarray'>\n",
      "(237200, 64, 64, 1)\n"
     ]
    }
   ],
   "source": [
    "print(Y[23])\n",
    "print(type(X))\n",
    "\n",
    "label_size = len(Y)\n",
    "print(label_size)\n",
    "X = np.array(X)\n",
    "Y = np.array(Y)\n",
    "\n",
    "print(type(X))\n",
    "print(X.shape)"
   ]
  },
  {
   "cell_type": "code",
   "execution_count": 4,
   "metadata": {},
   "outputs": [
    {
     "name": "stdout",
     "output_type": "stream",
     "text": [
      "(64, 64)\n"
     ]
    },
    {
     "data": {
      "text/plain": [
       "<matplotlib.colorbar.Colorbar at 0x21521640d68>"
      ]
     },
     "execution_count": 4,
     "metadata": {},
     "output_type": "execute_result"
    },
    {
     "data": {
      "image/png": "[encoded data removed]",
      "text/plain": [
       "<Figure size 432x288 with 2 Axes>"
      ]
     },
     "metadata": {
      "needs_background": "light"
     },
     "output_type": "display_data"
    }
   ],
   "source": [
    "\n",
    "test_img = X[2]\n",
    "test_img = np.reshape(test_img, (64,64))\n",
    "size = np.reshape(test_img,(64,64,1))\n",
    "print(test_img.shape)\n",
    "plt.imshow(test_img, cmap =\"gray\")\n",
    "plt.colorbar()\n",
    "#print(len(X))"
   ]
  },
  {
   "cell_type": "code",
   "execution_count": null,
   "metadata": {},
   "outputs": [],
   "source": [
    "model = Sequential()\n",
    "model.add(Conv2D(64,(3,3),input_shape =(64,64,1,) ))\n",
    "model.add(Activation(\"relu\"))\n",
    "model.add(MaxPooling2D(pool_size = (2,2)))\n",
    "\n",
    "model.add(Conv2D(64,(3,3)))\n",
    "model.add(Activation(\"relu\"))\n",
    "model.add(MaxPooling2D(pool_size = (2,2)))\n",
    "\n",
    "model.add(Flatten())\n",
    "model.add(Dense(64))\n",
    "\n",
    "model.add(Dense(1))\n",
    "model.add(Activation('sigmoid'))\n",
    "\n",
    "model.compile(\n",
    "    optimizer='adam',\n",
    "    loss='sparse_categorical_crossentropy',\n",
    "    metrics=['accuracy'],\n",
    ")\n",
    "\n",
    "model.fit(X, Y, batch_size = 64, epochs = 10, validation_split = 0.1)"
   ]
  },
  {
   "cell_type": "code",
   "execution_count": 5,
   "metadata": {
    "scrolled": false
   },
   "outputs": [
    {
     "name": "stdout",
     "output_type": "stream",
     "text": [
      "Model: \"Seq_01\"\n",
      "_________________________________________________________________\n",
      "Layer (type)                 Output Shape              Param #   \n",
      "=================================================================\n",
      "conv2d_01 (Conv2D)           (None, 60, 60, 32)        832       \n",
      "_________________________________________________________________\n",
      "maxpool2d_01 (MaxPooling2D)  (None, 30, 30, 32)        0         \n",
      "_________________________________________________________________\n",
      "conv2d_02 (Conv2D)           (None, 26, 26, 32)        25632     \n",
      "_________________________________________________________________\n",
      "maxpool2d_02 (MaxPooling2D)  (None, 13, 13, 32)        0         \n",
      "_________________________________________________________________\n",
      "conv2d_03 (Conv2D)           (None, 9, 9, 64)          51264     \n",
      "_________________________________________________________________\n",
      "maxpool2d_03 (MaxPooling2D)  (None, 4, 4, 64)          0         \n",
      "_________________________________________________________________\n",
      "flatten_01 (Flatten)         (None, 1024)              0         \n",
      "_________________________________________________________________\n",
      "dense_01 (Dense)             (None, 256)               262400    \n",
      "_________________________________________________________________\n",
      "dense_output (Dense)         (None, 2965)              762005    \n",
      "=================================================================\n",
      "Total params: 1,102,133\n",
      "Trainable params: 1,102,133\n",
      "Non-trainable params: 0\n",
      "_________________________________________________________________\n"
     ]
    }
   ],
   "source": [
    "model = Sequential(layers=[\n",
    "    Conv2D( name='conv2d_01',filters=32, kernel_size=5,activation='relu', input_shape=(64,64,1,),data_format='channels_last', ),\n",
    "    MaxPool2D(name='maxpool2d_01',pool_size=2,),\n",
    "    Conv2D(name='conv2d_02',filters=32,kernel_size=5,activation='relu',),\n",
    "    MaxPool2D(name='maxpool2d_02',pool_size=2,),\n",
    "    Conv2D(name='conv2d_03',filters=64,kernel_size=5,activation='relu',),\n",
    "    MaxPool2D(name='maxpool2d_03',pool_size=2,),\n",
    "    Flatten(name='flatten_01'),\n",
    "    Dense(name='dense_01',units=256,activation='relu',),\n",
    "    Dense( name='dense_output',units=y_labels.size(),activation='softmax',),\n",
    "], name='Seq_01')\n",
    "\n",
    "model.summary()"
   ]
  },
  {
   "cell_type": "code",
   "execution_count": 6,
   "metadata": {},
   "outputs": [
    {
     "name": "stdout",
     "output_type": "stream",
     "text": [
      "Train on 213480 samples, validate on 23720 samples\n",
      "Epoch 1/16\n",
      "213480/213480 [==============================] - 88s 413us/sample - loss: 3.1212 - accuracy: 0.4435 - val_loss: 0.8832 - val_accuracy: 0.7656\n",
      "Epoch 2/16\n",
      "213480/213480 [==============================] - 83s 387us/sample - loss: 0.5087 - accuracy: 0.8592 - val_loss: 0.5345 - val_accuracy: 0.8565\n",
      "Epoch 3/16\n",
      "213480/213480 [==============================] - 83s 387us/sample - loss: 0.2812 - accuracy: 0.9176 - val_loss: 0.4383 - val_accuracy: 0.8828\n",
      "Epoch 4/16\n",
      "213480/213480 [==============================] - 83s 388us/sample - loss: 0.1883 - accuracy: 0.9424 - val_loss: 0.4167 - val_accuracy: 0.8887\n",
      "Epoch 5/16\n",
      "213480/213480 [==============================] - 83s 388us/sample - loss: 0.1462 - accuracy: 0.9542 - val_loss: 0.3953 - val_accuracy: 0.8983\n",
      "Epoch 6/16\n",
      "213480/213480 [==============================] - 83s 388us/sample - loss: 0.1154 - accuracy: 0.9634 - val_loss: 0.3850 - val_accuracy: 0.9015\n",
      "Epoch 7/16\n",
      "213480/213480 [==============================] - 83s 388us/sample - loss: 0.0994 - accuracy: 0.9680 - val_loss: 0.3868 - val_accuracy: 0.9067\n",
      "Epoch 8/16\n",
      "213480/213480 [==============================] - 83s 388us/sample - loss: 0.0845 - accuracy: 0.9728 - val_loss: 0.3910 - val_accuracy: 0.9091\n",
      "Epoch 9/16\n",
      "213480/213480 [==============================] - 83s 389us/sample - loss: 0.0761 - accuracy: 0.9755 - val_loss: 0.3904 - val_accuracy: 0.9086\n",
      "Epoch 10/16\n",
      "213480/213480 [==============================] - 83s 388us/sample - loss: 0.0678 - accuracy: 0.9779 - val_loss: 0.3596 - val_accuracy: 0.9176\n",
      "Epoch 11/16\n",
      "213480/213480 [==============================] - 83s 389us/sample - loss: 0.0604 - accuracy: 0.9803 - val_loss: 0.3958 - val_accuracy: 0.9103\n",
      "Epoch 12/16\n",
      "213480/213480 [==============================] - 83s 388us/sample - loss: 0.0567 - accuracy: 0.9812 - val_loss: 0.3771 - val_accuracy: 0.9175\n",
      "Epoch 13/16\n",
      "213480/213480 [==============================] - 83s 387us/sample - loss: 0.0517 - accuracy: 0.9832 - val_loss: 0.3858 - val_accuracy: 0.9169\n",
      "Epoch 14/16\n",
      "213480/213480 [==============================] - 83s 389us/sample - loss: 0.0472 - accuracy: 0.9848 - val_loss: 0.3781 - val_accuracy: 0.9211\n",
      "Epoch 15/16\n",
      "213480/213480 [==============================] - 83s 389us/sample - loss: 0.0443 - accuracy: 0.9859 - val_loss: 0.3920 - val_accuracy: 0.9224\n",
      "Epoch 16/16\n",
      "213480/213480 [==============================] - 83s 390us/sample - loss: 0.0425 - accuracy: 0.9860 - val_loss: 0.3549 - val_accuracy: 0.9251\n"
     ]
    },
    {
     "data": {
      "text/plain": [
       "<tensorflow.python.keras.callbacks.History at 0x21521991198>"
      ]
     },
     "execution_count": 6,
     "metadata": {},
     "output_type": "execute_result"
    }
   ],
   "source": [
    "\n",
    "model.compile(\n",
    "    optimizer='adam',\n",
    "    loss='sparse_categorical_crossentropy',\n",
    "    metrics=['accuracy'],\n",
    ")\n",
    "model.fit(X,Y, batch_size = 256, epochs = 16, validation_split = 0.1)\n"
   ]
  },
  {
   "cell_type": "code",
   "execution_count": 7,
   "metadata": {},
   "outputs": [
    {
     "name": "stdout",
     "output_type": "stream",
     "text": [
      "WARNING:tensorflow:From c:\\users\\acer\\appdata\\local\\programs\\python\\python36\\lib\\site-packages\\tensorflow_core\\python\\ops\\resource_variable_ops.py:1781: calling BaseResourceVariable.__init__ (from tensorflow.python.ops.resource_variable_ops) with constraint is deprecated and will be removed in a future version.\n",
      "Instructions for updating:\n",
      "If using Keras pass *_constraint arguments to layers.\n",
      "INFO:tensorflow:Assets written to: Kanji2.model\\assets\n"
     ]
    }
   ],
   "source": [
    "model.save(\"Kanji2.model\")"
   ]
  },
  {
   "cell_type": "code",
   "execution_count": null,
   "metadata": {},
   "outputs": [],
   "source": []
  }
 ],
 "metadata": {
  "kernelspec": {
   "display_name": "Python 3",
   "language": "python",
   "name": "python3"
  },
  "language_info": {
   "codemirror_mode": {
    "name": "ipython",
    "version": 3
   },
   "file_extension": ".py",
   "mimetype": "text/x-python",
   "name": "python",
   "nbconvert_exporter": "python",
   "pygments_lexer": "ipython3",
   "version": "3.6.5"
  }
 },
 "nbformat": 4,
 "nbformat_minor": 4
}

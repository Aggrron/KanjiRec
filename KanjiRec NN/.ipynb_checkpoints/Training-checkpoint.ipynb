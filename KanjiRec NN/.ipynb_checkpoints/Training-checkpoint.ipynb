{
 "cells": [
  {
   "cell_type": "code",
   "execution_count": 2,
   "metadata": {
    "scrolled": true
   },
   "outputs": [],
   "source": [
    "import numpy as np\n",
    "import tensorflow as tf\n",
    "from tensorflow.keras.models import Sequential\n",
    "from tensorflow.keras.layers import Dense, Dropout, Activation, Flatten, Conv2D, MaxPooling2D, MaxPool2D\n",
    "#!pip install -U scikit-learn\n",
    "#!pip install joblib\n",
    "import joblib\n",
    "#from sklearn.externals import joblib\n",
    "import matplotlib.pyplot as plt\n"
   ]
  },
  {
   "cell_type": "code",
   "execution_count": null,
   "metadata": {},
   "outputs": [],
   "source": []
  },
  {
   "cell_type": "code",
   "execution_count": 3,
   "metadata": {},
   "outputs": [],
   "source": [
    "Y = joblib.load(\"Y_labels.sav\")\n",
    "X = joblib.load(\"X_images.sav\")\n",
    "\n"
   ]
  },
  {
   "cell_type": "code",
   "execution_count": 4,
   "metadata": {},
   "outputs": [
    {
     "name": "stdout",
     "output_type": "stream",
     "text": [
      "23\n",
      "<class 'list'>\n",
      "237200\n",
      "<class 'numpy.ndarray'>\n"
     ]
    }
   ],
   "source": [
    "print(Y[23])\n",
    "print(type(X))\n",
    "\n",
    "label_size = len(Y)\n",
    "print(label_size)\n",
    "X = np.array(X)\n",
    "Y = np.array(Y)\n",
    "\n",
    "print(type(X))\n"
   ]
  },
  {
   "cell_type": "code",
   "execution_count": 5,
   "metadata": {},
   "outputs": [
    {
     "name": "stdout",
     "output_type": "stream",
     "text": [
      "(64, 64)\n"
     ]
    },
    {
     "data": {
      "text/plain": [
       "<matplotlib.colorbar.Colorbar at 0x199624e2390>"
      ]
     },
     "execution_count": 5,
     "metadata": {},
     "output_type": "execute_result"
    },
    {
     "data": {
      "image/png": "[encoded data removed]",
      "text/plain": [
       "<Figure size 432x288 with 2 Axes>"
      ]
     },
     "metadata": {
      "needs_background": "light"
     },
     "output_type": "display_data"
    }
   ],
   "source": [
    "\n",
    "test_img = X[2]\n",
    "test_img = np.reshape(test_img, (64,64))\n",
    "size = np.reshape(test_img,(64,64,1))\n",
    "print(test_img.shape)\n",
    "plt.imshow(test_img, cmap =\"gray\")\n",
    "plt.colorbar()\n",
    "#print(len(X))"
   ]
  },
  {
   "cell_type": "code",
   "execution_count": null,
   "metadata": {},
   "outputs": [],
   "source": [
    "model = Sequential()\n",
    "model.add(Conv2D(64,(3,3),input_shape =(64,64,1,) ))\n",
    "model.add(Activation(\"relu\"))\n",
    "model.add(MaxPooling2D(pool_size = (2,2)))\n",
    "\n",
    "model.add(Conv2D(64,(3,3)))\n",
    "model.add(Activation(\"relu\"))\n",
    "model.add(MaxPooling2D(pool_size = (2,2)))\n",
    "\n",
    "model.add(Flatten())\n",
    "model.add(Dense(64))\n",
    "\n",
    "model.add(Dense(1))\n",
    "model.add(Activation('sigmoid'))\n",
    "\n",
    "model.compile(\n",
    "    optimizer='adam',\n",
    "    loss='sparse_categorical_crossentropy',\n",
    "    metrics=['accuracy'],\n",
    ")\n",
    "\n",
    "model.fit(X, Y, batch_size = 64, epochs = 10, validation_split = 0.1)"
   ]
  },
  {
   "cell_type": "code",
   "execution_count": null,
   "metadata": {},
   "outputs": [],
   "source": [
    "model = Sequential(layers=[\n",
    "    Conv2D(\n",
    "        name='conv2d_01',\n",
    "        filters=32,\n",
    "        kernel_size=5,\n",
    "        activation='relu',\n",
    "        input_shape=(64,64,1,),\n",
    "        data_format='channels_last',\n",
    "    ),\n",
    "    MaxPool2D(\n",
    "        name='maxpool2d_01',\n",
    "        pool_size=2,\n",
    "    ),\n",
    "    Conv2D(\n",
    "        name='conv2d_02',\n",
    "        filters=32,\n",
    "        kernel_size=5,\n",
    "        activation='relu',\n",
    "    ),\n",
    "    MaxPool2D(\n",
    "        name='maxpool2d_02',\n",
    "        pool_size=2,\n",
    "    ),\n",
    "    Conv2D(\n",
    "        name='conv2d_03',\n",
    "        filters=64,\n",
    "        kernel_size=5,\n",
    "        activation='relu',\n",
    "    ),\n",
    "    MaxPool2D(\n",
    "        name='maxpool2d_03',\n",
    "        pool_size=2,\n",
    "    ),\n",
    "    Flatten(name='flatten_01'),\n",
    "    Dense(\n",
    "        name='dense_01',\n",
    "        units=256,\n",
    "        activation='relu',\n",
    "    ),\n",
    "    Dense(\n",
    "        name='dense_output',\n",
    "        units=2965,\n",
    "        activation='softmax',\n",
    "    ),\n",
    "], name='Seq_01')\n",
    "\n",
    "model.summary()"
   ]
  },
  {
   "cell_type": "code",
   "execution_count": null,
   "metadata": {},
   "outputs": [],
   "source": [
    "\n",
    "model.compile(\n",
    "    optimizer='adam',\n",
    "    loss='sparse_categorical_crossentropy',\n",
    "    metrics=['accuracy'],\n",
    ")\n",
    "\n",
    "model.fit(X,Y, batch_size = 512, epochs = 4, validation_split = 0.1)\n"
   ]
  },
  {
   "cell_type": "code",
   "execution_count": null,
   "metadata": {},
   "outputs": [],
   "source": []
  }
 ],
 "metadata": {
  "kernelspec": {
   "display_name": "Python 3",
   "language": "python",
   "name": "python3"
  },
  "language_info": {
   "codemirror_mode": {
    "name": "ipython",
    "version": 3
   },
   "file_extension": ".py",
   "mimetype": "text/x-python",
   "name": "python",
   "nbconvert_exporter": "python",
   "pygments_lexer": "ipython3",
   "version": "3.6.5"
  }
 },
 "nbformat": 4,
 "nbformat_minor": 4
}

{
 "cells": [
  {
   "cell_type": "code",
   "execution_count": 1,
   "metadata": {},
   "outputs": [],
   "source": [
    "import numpy as np\n",
    "import cv2\n",
    "import tensorflow as tf\n",
    "import joblib\n",
    "import matplotlib.pyplot as plt"
   ]
  },
  {
   "cell_type": "code",
   "execution_count": 11,
   "metadata": {},
   "outputs": [],
   "source": [
    "def prepare(filepath):\n",
    "    img_size = 64\n",
    "    img_array = cv2.imread(filepath, cv2.IMREAD_GRAYSCALE)\n",
    "    img_array = img_array/255.0\n",
    "    new_array = cv2.resize(img_array, (img_size, img_size))\n",
    "    return new_array.reshape(-1, img_size, img_size, 1)\n",
    "\n",
    "def prepare2(image_array):\n",
    "    image_array = np.array(image_array)\n",
    "    img_size = 64\n",
    "    image_array = image_array/1.0\n",
    "    new_array = cv2.resize(image_array, (img_size, img_size))\n",
    "    return new_array.reshape(-1, img_size, img_size, 1)\n",
    "\n",
    "def print_np_arr(image_array):\n",
    "    np.set_printoptions(threshold=np.inf)\n",
    "    print(image_array)\n",
    "    \n",
    "def array_swap(image_array):\n",
    "    a = image_array\n",
    "    b = np.where(a > 0.8, 0,1)\n",
    "    b=b/1.0\n",
    "    return b\n",
    "\n",
    "def prediction_print(image_array, model):\n",
    "    prediction = model.predict([image_array])\n",
    "    #prediction_idx = np.argmax(prediction, axis=1)\n",
    "    pred_flatten = prediction.flatten()\n",
    "    #print(pred_flatten.argsort()[-3][::-1])\n",
    "    #print(pred_flatten.shape)\n",
    "    #print(pred_flatten)\n",
    "    prediction_idx = np.argpartition(pred_flatten, -10)[-10:]\n",
    "    print(prediction_idx)\n",
    "    \n"
   ]
  },
  {
   "cell_type": "code",
   "execution_count": 3,
   "metadata": {},
   "outputs": [],
   "source": [
    "X = joblib.load(\"X_images.sav\")"
   ]
  },
  {
   "cell_type": "code",
   "execution_count": 4,
   "metadata": {
    "scrolled": true
   },
   "outputs": [
    {
     "name": "stdout",
     "output_type": "stream",
     "text": [
      "Model: \"Seq_01\"\n",
      "_________________________________________________________________\n",
      "Layer (type)                 Output Shape              Param #   \n",
      "=================================================================\n",
      "conv2d_01 (Conv2D)           (None, 60, 60, 32)        832       \n",
      "_________________________________________________________________\n",
      "maxpool2d_01 (MaxPooling2D)  (None, 30, 30, 32)        0         \n",
      "_________________________________________________________________\n",
      "conv2d_02 (Conv2D)           (None, 26, 26, 32)        25632     \n",
      "_________________________________________________________________\n",
      "maxpool2d_02 (MaxPooling2D)  (None, 13, 13, 32)        0         \n",
      "_________________________________________________________________\n",
      "conv2d_03 (Conv2D)           (None, 9, 9, 64)          51264     \n",
      "_________________________________________________________________\n",
      "maxpool2d_03 (MaxPooling2D)  (None, 4, 4, 64)          0         \n",
      "_________________________________________________________________\n",
      "flatten_01 (Flatten)         (None, 1024)              0         \n",
      "_________________________________________________________________\n",
      "dense_01 (Dense)             (None, 256)               262400    \n",
      "_________________________________________________________________\n",
      "dense_output (Dense)         (None, 2965)              762005    \n",
      "=================================================================\n",
      "Total params: 1,102,133\n",
      "Trainable params: 1,102,133\n",
      "Non-trainable params: 0\n",
      "_________________________________________________________________\n"
     ]
    }
   ],
   "source": [
    "model = tf.keras.models.load_model(\"Kanji.model\")\n",
    "\n",
    "model.summary()"
   ]
  },
  {
   "cell_type": "code",
   "execution_count": 4,
   "metadata": {},
   "outputs": [],
   "source": [
    "converter = tf.lite.TFLiteConverter.from_keras_model(model)\n",
    "tflite = converter.convert()"
   ]
  },
  {
   "cell_type": "code",
   "execution_count": 5,
   "metadata": {},
   "outputs": [
    {
     "data": {
      "text/plain": [
       "4412256"
      ]
     },
     "execution_count": 5,
     "metadata": {},
     "output_type": "execute_result"
    }
   ],
   "source": [
    "tflite_filename = 'kanji_model_lite.tflite'\n",
    "open(tflite_filename, 'wb').write(tflite)"
   ]
  },
  {
   "cell_type": "code",
   "execution_count": null,
   "metadata": {},
   "outputs": [],
   "source": [
    "prediction = model.predict([prepare(\"kanji.png\")])"
   ]
  },
  {
   "cell_type": "code",
   "execution_count": 73,
   "metadata": {
    "scrolled": true
   },
   "outputs": [
    {
     "name": "stdout",
     "output_type": "stream",
     "text": [
      "<class 'numpy.ndarray'>\n",
      "(1, 64, 64, 1)\n"
     ]
    }
   ],
   "source": [
    "test_kanji = prepare(\"kanji.png\")\n",
    "print(type(test_kanji))\n",
    "print(test_kanji.shape)\n",
    "\n",
    "test_kanji = array_swap(test_kanji)\n",
    "#print_np_arr(test_kanji)\n",
    "#print(test_kanji.shape)"
   ]
  },
  {
   "cell_type": "code",
   "execution_count": 74,
   "metadata": {},
   "outputs": [
    {
     "name": "stdout",
     "output_type": "stream",
     "text": [
      "(64, 64)\n"
     ]
    },
    {
     "data": {
      "text/plain": [
       "<matplotlib.colorbar.Colorbar at 0x21abd085908>"
      ]
     },
     "execution_count": 74,
     "metadata": {},
     "output_type": "execute_result"
    },
    {
     "data": {
      "image/png": "[encoded data removed]",
      "text/plain": [
       "<Figure size 432x288 with 2 Axes>"
      ]
     },
     "metadata": {
      "needs_background": "light"
     },
     "output_type": "display_data"
    }
   ],
   "source": [
    "test_img = np.reshape(test_kanji, (64,64))\n",
    "print(test_img.shape)\n",
    "plt.imshow(test_img, cmap =\"gray\")\n",
    "plt.colorbar()"
   ]
  },
  {
   "cell_type": "code",
   "execution_count": 75,
   "metadata": {},
   "outputs": [
    {
     "name": "stdout",
     "output_type": "stream",
     "text": [
      "[1654  251 1047  628   85]\n"
     ]
    }
   ],
   "source": [
    "prediction_print(test_kanji, model)"
   ]
  },
  {
   "cell_type": "code",
   "execution_count": 84,
   "metadata": {},
   "outputs": [],
   "source": [
    "test_kanji2 = prepare(\"kanji2.png\")\n",
    "test_kanji2 = array_swap(test_kanji2)\n",
    "#print_np_arr(test_kanji2)"
   ]
  },
  {
   "cell_type": "code",
   "execution_count": 85,
   "metadata": {},
   "outputs": [
    {
     "name": "stdout",
     "output_type": "stream",
     "text": [
      "(64, 64)\n"
     ]
    },
    {
     "data": {
      "text/plain": [
       "<matplotlib.colorbar.Colorbar at 0x21abd3f89b0>"
      ]
     },
     "execution_count": 85,
     "metadata": {},
     "output_type": "execute_result"
    },
    {
     "data": {
      "image/png": "[encoded data removed]",
      "text/plain": [
       "<Figure size 432x288 with 2 Axes>"
      ]
     },
     "metadata": {
      "needs_background": "light"
     },
     "output_type": "display_data"
    }
   ],
   "source": [
    "test_img2 = np.reshape(test_kanji2, (64,64))\n",
    "print(test_img.shape)\n",
    "plt.imshow(test_img2, cmap =\"gray\")\n",
    "plt.colorbar()"
   ]
  },
  {
   "cell_type": "code",
   "execution_count": 86,
   "metadata": {},
   "outputs": [
    {
     "name": "stdout",
     "output_type": "stream",
     "text": [
      "[1227 2593  351  544 2281 2237 2705  938    7 1080]\n"
     ]
    }
   ],
   "source": [
    "prediction_print(test_kanji2, model)"
   ]
  },
  {
   "cell_type": "code",
   "execution_count": 21,
   "metadata": {},
   "outputs": [
    {
     "name": "stdout",
     "output_type": "stream",
     "text": [
      "<class 'numpy.ndarray'>\n",
      "(64, 64)\n"
     ]
    },
    {
     "data": {
      "text/plain": [
       "<matplotlib.colorbar.Colorbar at 0x1fc32561438>"
      ]
     },
     "execution_count": 21,
     "metadata": {},
     "output_type": "execute_result"
    },
    {
     "data": {
      "image/png": "[encoded data removed]",
      "text/plain": [
       "<Figure size 432x288 with 2 Axes>"
      ]
     },
     "metadata": {
      "needs_background": "light"
     },
     "output_type": "display_data"
    }
   ],
   "source": [
    "#preiction2 = model.predict([prepare2(X[0])])\n",
    "kanji_test2 = prepare2(X[65432])\n",
    "print(type(kanji_test2))\n",
    "kanji_test2.shape\n",
    "\n",
    "test_img = np.reshape(kanji_test2, (64,64))\n",
    "print(test_img.shape)\n",
    "plt.imshow(test_img, cmap =\"gray\")\n",
    "plt.colorbar()"
   ]
  },
  {
   "cell_type": "code",
   "execution_count": 27,
   "metadata": {},
   "outputs": [
    {
     "name": "stdout",
     "output_type": "stream",
     "text": [
      "[ 767 1867 1609  746 1393  614  595 2916 1045  370]\n"
     ]
    }
   ],
   "source": [
    "prediction_print(prepare2(X[370]),model)"
   ]
  },
  {
   "cell_type": "code",
   "execution_count": 15,
   "metadata": {},
   "outputs": [
    {
     "name": "stdout",
     "output_type": "stream",
     "text": [
      "(64, 64, 1)\n"
     ]
    }
   ],
   "source": [
    "# 1 модель - kanji.model - показывает ну так себе, попадает в первую десятку\n"
   ]
  },
  {
   "cell_type": "code",
   "execution_count": 40,
   "metadata": {},
   "outputs": [],
   "source": [
    "prediction2 = model.predict([prepare2(X[1429])])"
   ]
  },
  {
   "cell_type": "code",
   "execution_count": 41,
   "metadata": {},
   "outputs": [
    {
     "name": "stdout",
     "output_type": "stream",
     "text": [
      "[1429]\n"
     ]
    }
   ],
   "source": [
    "prediction2.shape\n",
    "prediction_idx = np.argmax(prediction2, axis=1)\n",
    "print(prediction_idx)"
   ]
  },
  {
   "cell_type": "code",
   "execution_count": 59,
   "metadata": {},
   "outputs": [
    {
     "name": "stdout",
     "output_type": "stream",
     "text": [
      "(2, 2)\n",
      "(4,)\n"
     ]
    }
   ],
   "source": [
    "a = np.array([[1,2], [3,4]])\n",
    "print(a.shape)\n",
    "d = a.flatten()\n",
    "print(d.shape)\n",
    "#a.flatten('F')\n"
   ]
  },
  {
   "cell_type": "code",
   "execution_count": 64,
   "metadata": {},
   "outputs": [
    {
     "data": {
      "text/plain": [
       "(5,)"
      ]
     },
     "execution_count": 64,
     "metadata": {},
     "output_type": "execute_result"
    }
   ],
   "source": [
    "arr = np.array([1, 3, 2, 4, 5])\n",
    "arr.shape"
   ]
  },
  {
   "cell_type": "code",
   "execution_count": null,
   "metadata": {},
   "outputs": [],
   "source": []
  }
 ],
 "metadata": {
  "kernelspec": {
   "display_name": "Python 3",
   "language": "python",
   "name": "python3"
  },
  "language_info": {
   "codemirror_mode": {
    "name": "ipython",
    "version": 3
   },
   "file_extension": ".py",
   "mimetype": "text/x-python",
   "name": "python",
   "nbconvert_exporter": "python",
   "pygments_lexer": "ipython3",
   "version": "3.6.5"
  }
 },
 "nbformat": 4,
 "nbformat_minor": 4
}
